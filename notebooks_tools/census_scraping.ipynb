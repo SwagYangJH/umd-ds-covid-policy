{
 "cells": [
  {
   "cell_type": "code",
   "execution_count": null,
   "id": "3c682a9e",
   "metadata": {},
   "outputs": [],
   "source": [
    "# Setting Up Imports \n",
    "\n",
    "from selenium import webdriver\n",
    "from selenium.webdriver.common.keys import Keys\n",
    "from selenium.webdriver.support.ui import WebDriverWait\n",
    "from selenium.webdriver.support.ui import Select\n",
    "from selenium.webdriver.common.by import By\n",
    "from selenium.webdriver.common.keys import Keys\n",
    "from selenium.webdriver.chrome.options import Options\n",
    "from webdriver_manager.chrome import ChromeDriverManager\n",
    "\n",
    "\n",
    "\n",
    "import copy\n",
    "\n",
    "from urllib.parse import urlparse\n",
    "import numpy as np\n",
    "import pandas as pd\n",
    "import re \n",
    "from pathlib import Path\n",
    "import os\n",
    "import time\n",
    "from datetime import date\n",
    "from datetime import timedelta\n",
    "from datetime import datetime\n",
    "import dateutil.parser as parser\n",
    "\n",
    "today = date.today()\n",
    "cwd = os.getcwd()\n",
    "\n",
    "\n",
    "# Setting up browser environment\n",
    "\n",
    "userprofile = 'teamcovid'\n",
    "options = webdriver.ChromeOptions()\n",
    "options.add_argument(f\"user-data-dir={cwd}/.\"+userprofile+\"UserProfile\")\n",
    "driver = webdriver.Chrome(ChromeDriverManager().install() , options=options)\n",
    "\n",
    "\n"
   ]
  },
  {
   "cell_type": "code",
   "execution_count": null,
   "id": "6b8a1d3e",
   "metadata": {},
   "outputs": [],
   "source": [
    "src = 'https://data.census.gov/cedsci/profile?g=0400000US'\n"
   ]
  },
  {
   "cell_type": "code",
   "execution_count": null,
   "id": "d617ef22",
   "metadata": {},
   "outputs": [],
   "source": [
    "driver.get(src+'04')"
   ]
  },
  {
   "cell_type": "code",
   "execution_count": null,
   "id": "ec6c910b",
   "metadata": {},
   "outputs": [],
   "source": [
    "headerList = driver.find_elements(By.XPATH,f\"//h1[@class='profile-title']\")"
   ]
  },
  {
   "cell_type": "code",
   "execution_count": null,
   "id": "ab4fea7d",
   "metadata": {},
   "outputs": [],
   "source": [
    "BIGBOYDATA = [] \n"
   ]
  },
  {
   "cell_type": "code",
   "execution_count": null,
   "id": "1e805dfb",
   "metadata": {},
   "outputs": [],
   "source": [
    "!open ."
   ]
  },
  {
   "cell_type": "code",
   "execution_count": null,
   "id": "01b8629d",
   "metadata": {},
   "outputs": [],
   "source": [
    "\n",
    "for i in range (27,80):\n",
    "    \n",
    "    \n",
    "    MEDIANAGE = -1\n",
    "    POVERTY = -1 \n",
    "    MEDIAN_INCOME = -1 \n",
    "    VETERANS = -1 \n",
    "    \n",
    "    \n",
    "    \n",
    "    if len(str(i))==1:\n",
    "        index_url = '0' + str(i)\n",
    "    else:\n",
    "        index_url = str(i)\n",
    "            \n",
    "    driver.get(src+index_url)\n",
    "    \n",
    "    time.sleep(2)\n",
    "    noResList = driver.find_elements(By.XPATH,f\"//h1[@class='{'message'}']\")\n",
    "    results = []\n",
    "    for hits in noResList:\n",
    "        results.append(hits.text)\n",
    "    \n",
    "    if ('No Results Found' in results):\n",
    "        print('Not a valid url')\n",
    "        print('---------\\n\\n')\n",
    "        continue\n",
    "\n",
    "    print('valid url')\n",
    "#         //SCRAPE HERE \n",
    "\n",
    "    time.sleep(10)\n",
    "    \n",
    "    StateName = driver.find_element(By.XPATH,f\"//h1[@class='{'profile-title'}']\").text\n",
    "    print(f'Found State, {StateName}')\n",
    "    \n",
    "    headerClass = 'aqua-layout highlight vertical align-center justify-center'\n",
    "    headerList = driver.find_elements(By.XPATH,f\"//div[@class='{headerClass}']\")\n",
    "    \n",
    "    context = []\n",
    "    value = [] \n",
    "    for header in headerList:\n",
    "\n",
    "        all_children_by_xpath = header.find_elements(By.XPATH,\".//*\")\n",
    "        for indice,headerInside in enumerate(all_children_by_xpath):\n",
    "            textdata = headerInside.text\n",
    "            if indice==2:\n",
    "                context.append(textdata)\n",
    "            if indice ==3:\n",
    "                value.append(textdata)\n",
    "            \n",
    "            \n",
    "    print(context)\n",
    "    print(value)\n",
    "    \n",
    "    FINAL = {}\n",
    "    if len(context) == len(value):\n",
    "        for indexing in range(len(context)):\n",
    "            FINAL[context[indexing]] =  value[indexing]\n",
    "\n",
    "            \n",
    "    df_FINAL = pd.DataFrame(FINAL, index=[0])\n",
    "    \n",
    "    df_FINAL.to_csv(f'{StateName}.csv')\n",
    "    \n",
    "    SHIT_METHOD_LIST = driver.find_elements(By.XPATH,f\"//span[@class='{'measure-estimate-value'}']\")\n",
    "    for indice,dataElement in enumerate(SHIT_METHOD_LIST):\n",
    "        if indice ==0:\n",
    "            MEDIAN_AGE = dataElement.text\n",
    "        if indice ==14:\n",
    "            VETERANS = dataElement.text\n",
    "        if indice ==16:\n",
    "            MEDIAN_INCOME = dataElement.text\n",
    "        if indice ==18:\n",
    "            POVERTY = dataElement.text\n",
    "\n",
    "            \n",
    "            \n",
    "        \n",
    "    \n",
    "    \n",
    "    print('---------\\n\\n')\n",
    "    "
   ]
  },
  {
   "cell_type": "code",
   "execution_count": null,
   "id": "efc637dc",
   "metadata": {},
   "outputs": [],
   "source": [
    "!open ."
   ]
  },
  {
   "cell_type": "code",
   "execution_count": null,
   "id": "14c47323",
   "metadata": {},
   "outputs": [],
   "source": [
    "    df_FINAL = pd.DataFrame(FINAL, index=[0])\n",
    "\n"
   ]
  },
  {
   "cell_type": "code",
   "execution_count": null,
   "id": "52732e6f",
   "metadata": {},
   "outputs": [],
   "source": [
    "df_FINAL"
   ]
  },
  {
   "cell_type": "code",
   "execution_count": null,
   "id": "3300c57d",
   "metadata": {},
   "outputs": [],
   "source": [
    "StateName"
   ]
  },
  {
   "cell_type": "code",
   "execution_count": null,
   "id": "23807303",
   "metadata": {},
   "outputs": [],
   "source": [
    "SHIT_METHOD_LIST = driver.find_elements(By.XPATH,f\"//span[@class='{'measure-estimate-value'}']\")"
   ]
  },
  {
   "cell_type": "code",
   "execution_count": null,
   "id": "1cd077d2",
   "metadata": {},
   "outputs": [],
   "source": [
    "context"
   ]
  },
  {
   "cell_type": "code",
   "execution_count": null,
   "id": "070c5b02",
   "metadata": {},
   "outputs": [],
   "source": [
    "medianState = driver.find_elements(By.XPATH,median_xpath)"
   ]
  },
  {
   "cell_type": "code",
   "execution_count": null,
   "id": "d700be00",
   "metadata": {},
   "outputs": [],
   "source": [
    "medianState[2].text"
   ]
  },
  {
   "cell_type": "code",
   "execution_count": null,
   "id": "6b3e3076",
   "metadata": {},
   "outputs": [],
   "source": [
    "DATASTATS = ageStatsDiv[0].find_elements(By.XPATH,\".//*\")\n",
    "for agedata in DATASTATS:\n",
    "    print(agedata.text)\n"
   ]
  },
  {
   "cell_type": "code",
   "execution_count": null,
   "id": "82b97eb9",
   "metadata": {},
   "outputs": [],
   "source": [
    "agedata.tag_name"
   ]
  },
  {
   "cell_type": "code",
   "execution_count": null,
   "id": "80f4c0da",
   "metadata": {},
   "outputs": [],
   "source": [
    "noResList = driver.find_elements(By.XPATH,f\"//h1[@class='{'message'}']\")"
   ]
  },
  {
   "cell_type": "code",
   "execution_count": null,
   "id": "20cf41e9",
   "metadata": {},
   "outputs": [],
   "source": [
    "for hits in noResList:\n",
    "    print(hits.text)"
   ]
  },
  {
   "cell_type": "code",
   "execution_count": null,
   "id": "45eedd7f",
   "metadata": {},
   "outputs": [],
   "source": []
  },
  {
   "cell_type": "code",
   "execution_count": null,
   "id": "7fa136d9",
   "metadata": {},
   "outputs": [],
   "source": []
  },
  {
   "cell_type": "code",
   "execution_count": null,
   "id": "6a27d191",
   "metadata": {},
   "outputs": [],
   "source": [
    "value"
   ]
  },
  {
   "cell_type": "code",
   "execution_count": null,
   "id": "c08dc2ff",
   "metadata": {},
   "outputs": [],
   "source": []
  }
 ],
 "metadata": {
  "kernelspec": {
   "display_name": "Python 3 (ipykernel)",
   "language": "python",
   "name": "python3"
  },
  "language_info": {
   "codemirror_mode": {
    "name": "ipython",
    "version": 3
   },
   "file_extension": ".py",
   "mimetype": "text/x-python",
   "name": "python",
   "nbconvert_exporter": "python",
   "pygments_lexer": "ipython3",
   "version": "3.7.11"
  }
 },
 "nbformat": 4,
 "nbformat_minor": 5
}
