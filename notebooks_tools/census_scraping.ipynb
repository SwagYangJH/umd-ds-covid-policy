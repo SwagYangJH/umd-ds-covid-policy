{
 "cells": [
  {
   "cell_type": "code",
   "execution_count": 1,
   "id": "3c682a9e",
   "metadata": {},
   "outputs": [
    {
     "name": "stderr",
     "output_type": "stream",
     "text": [
      "[WDM] - \n",
      "\n",
      "[WDM] - ====== WebDriver manager ======\n",
      "[WDM] - Current google-chrome version is 95.0.4638\n",
      "[WDM] - Get LATEST driver version for 95.0.4638\n",
      "[WDM] - Driver [/Users/flipflops/.wdm/drivers/chromedriver/mac64/95.0.4638.69/chromedriver] found in cache\n",
      "/usr/local/Caskroom/miniconda/base/envs/tpc-wa/lib/python3.7/site-packages/ipykernel_launcher.py:37: DeprecationWarning: executable_path has been deprecated, please pass in a Service object\n"
     ]
    }
   ],
   "source": [
    "# Setting Up Imports \n",
    "\n",
    "from selenium import webdriver\n",
    "from selenium.webdriver.common.keys import Keys\n",
    "from selenium.webdriver.support.ui import WebDriverWait\n",
    "from selenium.webdriver.support.ui import Select\n",
    "from selenium.webdriver.common.by import By\n",
    "from selenium.webdriver.common.keys import Keys\n",
    "from selenium.webdriver.chrome.options import Options\n",
    "from webdriver_manager.chrome import ChromeDriverManager\n",
    "\n",
    "\n",
    "\n",
    "import copy\n",
    "\n",
    "from urllib.parse import urlparse\n",
    "import numpy as np\n",
    "import pandas as pd\n",
    "import re \n",
    "from pathlib import Path\n",
    "import os\n",
    "import time\n",
    "from datetime import date\n",
    "from datetime import timedelta\n",
    "from datetime import datetime\n",
    "import dateutil.parser as parser\n",
    "\n",
    "today = date.today()\n",
    "cwd = os.getcwd()\n",
    "\n",
    "\n",
    "# Setting up browser environment\n",
    "\n",
    "userprofile = 'teamcovid'\n",
    "options = webdriver.ChromeOptions()\n",
    "options.add_argument(f\"user-data-dir={cwd}/.\"+userprofile+\"UserProfile\")\n",
    "driver = webdriver.Chrome(ChromeDriverManager().install() , options=options)\n",
    "\n",
    "\n"
   ]
  },
  {
   "cell_type": "code",
   "execution_count": 2,
   "id": "6b8a1d3e",
   "metadata": {},
   "outputs": [],
   "source": [
    "src = 'https://data.census.gov/cedsci/profile?g=0400000US'\n"
   ]
  },
  {
   "cell_type": "code",
   "execution_count": 3,
   "id": "d617ef22",
   "metadata": {},
   "outputs": [],
   "source": [
    "driver.get(src+'04')"
   ]
  },
  {
   "cell_type": "code",
   "execution_count": 4,
   "id": "ec6c910b",
   "metadata": {},
   "outputs": [],
   "source": [
    "headerList = driver.find_elements(By.XPATH,f\"//h1[@class='profile-title']\")"
   ]
  },
  {
   "cell_type": "code",
   "execution_count": 18,
   "id": "e25a09d5",
   "metadata": {},
   "outputs": [],
   "source": [
    "BIGBOYDATA = [] \n"
   ]
  },
  {
   "cell_type": "code",
   "execution_count": 12,
   "id": "6e8c2bcd",
   "metadata": {},
   "outputs": [],
   "source": [
    "!open ."
   ]
  },
  {
   "cell_type": "code",
   "execution_count": 20,
   "id": "01b8629d",
   "metadata": {},
   "outputs": [
    {
     "name": "stdout",
     "output_type": "stream",
     "text": [
      "valid url\n",
      "Found State, Alabama\n",
      "['Total Population', 'Median Household Income', \"Bachelor's Degree or Higher\", 'Employment Rate', 'Total Housing Units', 'Without Health Care Coverage', 'Total Employer Establishments', 'Total Households', 'Hispanic or Latino (of any race)']\n",
      "['5,024,279', '$51,734', '26.3%', '54.7%', '2,288,330', '9.7%', '100,731', '1,897,576', '264,047']\n",
      "---------\n",
      "\n",
      "\n",
      "valid url\n",
      "Found State, Alaska\n",
      "['Total Population', 'Median Household Income', \"Bachelor's Degree or Higher\", 'Employment Rate', 'Total Housing Units', 'Without Health Care Coverage', 'Total Employer Establishments', 'Total Households', 'Hispanic or Latino (of any race)']\n",
      "['733,391', '$75,463', '30.2%', '59.3%', '326,200', '12.2%', '21,399', '252,199', '49,824']\n",
      "---------\n",
      "\n",
      "\n"
     ]
    }
   ],
   "source": [
    "\n",
    "for i in range (1,3):\n",
    "    \n",
    "    \n",
    "    MEDIANAGE = -1\n",
    "    POVERTY = -1 \n",
    "    MEDIAN_INCOME = -1 \n",
    "    VETERANS = -1 \n",
    "    \n",
    "    \n",
    "    \n",
    "    if len(str(i))==1:\n",
    "        index_url = '0' + str(i)\n",
    "    else:\n",
    "        index_url = str(i)\n",
    "            \n",
    "    driver.get(src+index_url)\n",
    "    \n",
    "    time.sleep(2)\n",
    "    noResList = driver.find_elements(By.XPATH,f\"//h1[@class='{'message'}']\")\n",
    "    results = []\n",
    "    for hits in noResList:\n",
    "        results.append(hits.text)\n",
    "    \n",
    "    if ('No Results Found' in results):\n",
    "        print('Not a valid url')\n",
    "        print('---------\\n\\n')\n",
    "        continue\n",
    "\n",
    "    print('valid url')\n",
    "#         //SCRAPE HERE \n",
    "\n",
    "    time.sleep(10)\n",
    "    \n",
    "    StateName = driver.find_element(By.XPATH,f\"//h1[@class='{'profile-title'}']\").text\n",
    "    print(f'Found State, {StateName}')\n",
    "    \n",
    "    headerClass = 'aqua-layout highlight vertical align-center justify-center'\n",
    "    headerList = driver.find_elements(By.XPATH,f\"//div[@class='{headerClass}']\")\n",
    "    \n",
    "    context = []\n",
    "    value = [] \n",
    "    for header in headerList:\n",
    "\n",
    "        all_children_by_xpath = header.find_elements(By.XPATH,\".//*\")\n",
    "        for indice,headerInside in enumerate(all_children_by_xpath):\n",
    "            textdata = headerInside.text\n",
    "            if indice==2:\n",
    "                context.append(textdata)\n",
    "            if indice ==3:\n",
    "                value.append(textdata)\n",
    "            \n",
    "            \n",
    "    print(context)\n",
    "    print(value)\n",
    "    \n",
    "    FINAL = {}\n",
    "    if len(context) == len(value):\n",
    "        for indexing in range(len(context)):\n",
    "            FINAL[context[indexing]] =  value[indexing]\n",
    "\n",
    "            \n",
    "    df_FINAL = pd.DataFrame(FINAL, index=[0])\n",
    "    \n",
    "    df_FINAL.to_csv(f'{StateName}.csv')\n",
    "    \n",
    "    SHIT_METHOD_LIST = driver.find_elements(By.XPATH,f\"//span[@class='{'measure-estimate-value'}']\")\n",
    "    for indice,dataElement in enumerate(SHIT_METHOD_LIST):\n",
    "        if indice ==0:\n",
    "            MEDIAN_AGE = dataElement.text\n",
    "        if indice ==14:\n",
    "            VETERANS = dataElement.text\n",
    "        if indice ==16:\n",
    "            MEDIAN_INCOME = dataElement.text\n",
    "        if indice ==18:\n",
    "            POVERTY = dataElement.text\n",
    "\n",
    "            \n",
    "            \n",
    "        \n",
    "    \n",
    "    \n",
    "    print('---------\\n\\n')\n",
    "    "
   ]
  },
  {
   "cell_type": "code",
   "execution_count": 21,
   "id": "aa422673",
   "metadata": {},
   "outputs": [],
   "source": [
    "!open ."
   ]
  },
  {
   "cell_type": "code",
   "execution_count": 15,
   "id": "b7ac7349",
   "metadata": {},
   "outputs": [],
   "source": [
    "    df_FINAL = pd.DataFrame(FINAL, index=[0])\n",
    "\n"
   ]
  },
  {
   "cell_type": "code",
   "execution_count": 16,
   "id": "0250eb84",
   "metadata": {},
   "outputs": [
    {
     "data": {
      "text/html": [
       "<div>\n",
       "<style scoped>\n",
       "    .dataframe tbody tr th:only-of-type {\n",
       "        vertical-align: middle;\n",
       "    }\n",
       "\n",
       "    .dataframe tbody tr th {\n",
       "        vertical-align: top;\n",
       "    }\n",
       "\n",
       "    .dataframe thead th {\n",
       "        text-align: right;\n",
       "    }\n",
       "</style>\n",
       "<table border=\"1\" class=\"dataframe\">\n",
       "  <thead>\n",
       "    <tr style=\"text-align: right;\">\n",
       "      <th></th>\n",
       "      <th>Total Population</th>\n",
       "      <th>Median Household Income</th>\n",
       "      <th>Bachelor's Degree or Higher</th>\n",
       "      <th>Employment Rate</th>\n",
       "      <th>Total Housing Units</th>\n",
       "      <th>Without Health Care Coverage</th>\n",
       "      <th>Total Employer Establishments</th>\n",
       "      <th>Total Households</th>\n",
       "      <th>Hispanic or Latino (of any race)</th>\n",
       "    </tr>\n",
       "  </thead>\n",
       "  <tbody>\n",
       "    <tr>\n",
       "      <th>0</th>\n",
       "      <td>5,024,279</td>\n",
       "      <td>$51,734</td>\n",
       "      <td>26.3%</td>\n",
       "      <td>54.7%</td>\n",
       "      <td>2,288,330</td>\n",
       "      <td>9.7%</td>\n",
       "      <td>100,731</td>\n",
       "      <td>1,897,576</td>\n",
       "      <td>264,047</td>\n",
       "    </tr>\n",
       "  </tbody>\n",
       "</table>\n",
       "</div>"
      ],
      "text/plain": [
       "  Total Population Median Household Income Bachelor's Degree or Higher  \\\n",
       "0        5,024,279                 $51,734                       26.3%   \n",
       "\n",
       "  Employment Rate Total Housing Units Without Health Care Coverage  \\\n",
       "0           54.7%           2,288,330                         9.7%   \n",
       "\n",
       "  Total Employer Establishments Total Households  \\\n",
       "0                       100,731        1,897,576   \n",
       "\n",
       "  Hispanic or Latino (of any race)  \n",
       "0                          264,047  "
      ]
     },
     "execution_count": 16,
     "metadata": {},
     "output_type": "execute_result"
    }
   ],
   "source": [
    "df_FINAL"
   ]
  },
  {
   "cell_type": "code",
   "execution_count": null,
   "id": "6f5684a6",
   "metadata": {},
   "outputs": [],
   "source": [
    "StateName"
   ]
  },
  {
   "cell_type": "code",
   "execution_count": null,
   "id": "23807303",
   "metadata": {},
   "outputs": [],
   "source": [
    "SHIT_METHOD_LIST = driver.find_elements(By.XPATH,f\"//span[@class='{'measure-estimate-value'}']\")"
   ]
  },
  {
   "cell_type": "code",
   "execution_count": null,
   "id": "1cd077d2",
   "metadata": {},
   "outputs": [],
   "source": [
    "context"
   ]
  },
  {
   "cell_type": "code",
   "execution_count": null,
   "id": "070c5b02",
   "metadata": {},
   "outputs": [],
   "source": [
    "medianState = driver.find_elements(By.XPATH,median_xpath)"
   ]
  },
  {
   "cell_type": "code",
   "execution_count": null,
   "id": "d700be00",
   "metadata": {},
   "outputs": [],
   "source": [
    "medianState[2].text"
   ]
  },
  {
   "cell_type": "code",
   "execution_count": null,
   "id": "6b3e3076",
   "metadata": {},
   "outputs": [],
   "source": [
    "DATASTATS = ageStatsDiv[0].find_elements(By.XPATH,\".//*\")\n",
    "for agedata in DATASTATS:\n",
    "    print(agedata.text)\n"
   ]
  },
  {
   "cell_type": "code",
   "execution_count": null,
   "id": "82b97eb9",
   "metadata": {},
   "outputs": [],
   "source": [
    "agedata.tag_name"
   ]
  },
  {
   "cell_type": "code",
   "execution_count": null,
   "id": "80f4c0da",
   "metadata": {},
   "outputs": [],
   "source": [
    "noResList = driver.find_elements(By.XPATH,f\"//h1[@class='{'message'}']\")"
   ]
  },
  {
   "cell_type": "code",
   "execution_count": null,
   "id": "20cf41e9",
   "metadata": {},
   "outputs": [],
   "source": [
    "for hits in noResList:\n",
    "    print(hits.text)"
   ]
  },
  {
   "cell_type": "code",
   "execution_count": null,
   "id": "45eedd7f",
   "metadata": {},
   "outputs": [],
   "source": []
  },
  {
   "cell_type": "code",
   "execution_count": null,
   "id": "7fa136d9",
   "metadata": {},
   "outputs": [],
   "source": []
  },
  {
   "cell_type": "code",
   "execution_count": null,
   "id": "6a27d191",
   "metadata": {},
   "outputs": [],
   "source": [
    "value"
   ]
  },
  {
   "cell_type": "code",
   "execution_count": null,
   "id": "c08dc2ff",
   "metadata": {},
   "outputs": [],
   "source": []
  }
 ],
 "metadata": {
  "kernelspec": {
   "display_name": "Python 3 (ipykernel)",
   "language": "python",
   "name": "python3"
  },
  "language_info": {
   "codemirror_mode": {
    "name": "ipython",
    "version": 3
   },
   "file_extension": ".py",
   "mimetype": "text/x-python",
   "name": "python",
   "nbconvert_exporter": "python",
   "pygments_lexer": "ipython3",
   "version": "3.7.11"
  }
 },
 "nbformat": 4,
 "nbformat_minor": 5
}
