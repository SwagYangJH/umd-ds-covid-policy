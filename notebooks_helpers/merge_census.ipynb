{
 "cells": [
  {
   "cell_type": "markdown",
   "id": "b67d5238",
   "metadata": {},
   "source": [
    "# Merging census csv's into one combined csv "
   ]
  },
  {
   "cell_type": "markdown",
   "id": "412a2d6c",
   "metadata": {},
   "source": [
    "Notebook used to convert individual csv's into one csv"
   ]
  },
  {
   "cell_type": "code",
   "execution_count": null,
   "id": "c23b52a1",
   "metadata": {},
   "outputs": [],
   "source": [
    "import pandas as pd"
   ]
  },
  {
   "cell_type": "code",
   "execution_count": 5,
   "id": "28feae9c",
   "metadata": {},
   "outputs": [],
   "source": [
    "from os import walk"
   ]
  },
  {
   "cell_type": "code",
   "execution_count": 8,
   "id": "485bf396",
   "metadata": {},
   "outputs": [],
   "source": [
    "censusDataFolder = '../datasets/censusdata/'\n",
    "filenames = next(walk(f'{censusDataFolder}'), (None, None, []))[2]  # [] if no file"
   ]
  },
  {
   "cell_type": "code",
   "execution_count": 13,
   "id": "e7c825d6",
   "metadata": {},
   "outputs": [],
   "source": [
    "FINAL_DATAFRAME = pd.DataFrame()"
   ]
  },
  {
   "cell_type": "code",
   "execution_count": 20,
   "id": "79765c23",
   "metadata": {},
   "outputs": [],
   "source": [
    "dfArray = []\n",
    "for state in filenames:\n",
    "    STATE = state.split('.')[0]\n",
    "    state_df = pd.read_csv(f'{censusDataFolder}{state}')\n",
    "    state_df['stateName'] = f'{STATE}'\n",
    "    dfArray.append(state_df)"
   ]
  },
  {
   "cell_type": "code",
   "execution_count": 21,
   "id": "e5ce4459",
   "metadata": {},
   "outputs": [],
   "source": [
    "result = pd.concat(dfArray)"
   ]
  },
  {
   "cell_type": "markdown",
   "id": "45167976",
   "metadata": {},
   "source": [
    "# Adding State Code to the Sheets "
   ]
  },
  {
   "cell_type": "code",
   "execution_count": 26,
   "id": "6539d57a",
   "metadata": {},
   "outputs": [],
   "source": [
    "pd_ref = pd.read_csv('../datasets/us_states.csv')"
   ]
  },
  {
   "cell_type": "code",
   "execution_count": 34,
   "id": "72ff2b2e",
   "metadata": {},
   "outputs": [],
   "source": [
    "result_main = (pd.merge(pd_ref, result, on='stateName',how=\"outer\"))"
   ]
  },
  {
   "cell_type": "code",
   "execution_count": 36,
   "id": "529d9beb",
   "metadata": {},
   "outputs": [
    {
     "data": {
      "text/plain": [
       "56"
      ]
     },
     "execution_count": 36,
     "metadata": {},
     "output_type": "execute_result"
    }
   ],
   "source": [
    "len(result_main)"
   ]
  },
  {
   "cell_type": "code",
   "execution_count": 38,
   "id": "87e7cdbf",
   "metadata": {},
   "outputs": [],
   "source": [
    "result_main.to_csv('sam_statewise_census_data.csv')"
   ]
  },
  {
   "cell_type": "code",
   "execution_count": 39,
   "id": "dda8fd3c",
   "metadata": {},
   "outputs": [],
   "source": [
    "!open ."
   ]
  },
  {
   "cell_type": "code",
   "execution_count": null,
   "id": "cbb13eed",
   "metadata": {},
   "outputs": [],
   "source": []
  }
 ],
 "metadata": {
  "kernelspec": {
   "display_name": "Python 3 (ipykernel)",
   "language": "python",
   "name": "python3"
  },
  "language_info": {
   "codemirror_mode": {
    "name": "ipython",
    "version": 3
   },
   "file_extension": ".py",
   "mimetype": "text/x-python",
   "name": "python",
   "nbconvert_exporter": "python",
   "pygments_lexer": "ipython3",
   "version": "3.7.11"
  }
 },
 "nbformat": 4,
 "nbformat_minor": 5
}
