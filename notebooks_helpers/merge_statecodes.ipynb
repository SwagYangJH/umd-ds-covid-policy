{
 "cells": [
  {
   "cell_type": "code",
   "execution_count": 1,
   "id": "7d54c847",
   "metadata": {},
   "outputs": [],
   "source": [
    "import pandas as pd"
   ]
  },
  {
   "cell_type": "code",
   "execution_count": 3,
   "id": "c46b053f",
   "metadata": {},
   "outputs": [],
   "source": [
    "d1 = pd.read_csv(\"../datasets/chao_obesity.csv\")\n",
    "d2 = pd.read_csv(\"../datasets/us_states.csv\")"
   ]
  },
  {
   "cell_type": "code",
   "execution_count": 6,
   "id": "159f2f56",
   "metadata": {},
   "outputs": [
    {
     "name": "stdout",
     "output_type": "stream",
     "text": [
      "               stateName  Prevalence        95% CI stateCode\n",
      "0                Alabama        39.0  (37.3, 40.8)        AL\n",
      "1                 Alaska        31.9  (29.4, 34.4)        AK\n",
      "2                Arizona        30.9  (29.5, 32.3)        AZ\n",
      "3               Arkansas        36.4  (34.5, 38.4)        AR\n",
      "4             California        30.3  (28.3, 32.2)        CA\n",
      "5               Colorado        24.2  (23.1, 25.2)        CO\n",
      "6            Connecticut        29.2  (27.7, 30.8)        CT\n",
      "7               Delaware        36.5  (34.3, 38.8)        DE\n",
      "8   District of Columbia        24.3  (22.3, 26.4)        DC\n",
      "9                Florida        28.4  (26.7, 30.2)        FL\n",
      "10               Georgia        34.3  (32.5, 36.0)        GA\n",
      "11                Hawaii        24.5  (23.2, 25.9)        HI\n",
      "12                 Idaho        31.1  (29.4, 32.9)        ID\n",
      "13              Illinois        32.4  (30.2, 34.6)        IL\n",
      "14               Indiana        36.8  (35.4, 38.1)        IN\n",
      "15                  Iowa        36.5  (35.3, 37.7)        IA\n",
      "16                Kansas        35.3  (34.0, 36.5)        KS\n",
      "17              Kentucky        36.6  (34.6, 38.6)        KY\n",
      "18             Louisiana        38.1  (36.2, 40.1)        LA\n",
      "19                 Maine        31.0  (29.6, 32.5)        ME\n",
      "20              Maryland        31.0  (29.8, 32.2)        MD\n",
      "21         Massachusetts        24.4  (23.0, 25.9)        MA\n",
      "22              Michigan        35.2  (33.7, 36.7)        MI\n",
      "23             Minnesota        30.7  (29.8, 31.7)        MN\n",
      "24           Mississippi        39.7  (38.1, 41.3)        MS\n",
      "25              Missouri        34.0  (32.7, 35.4)        MO\n",
      "26               Montana        28.5  (27.1, 30.0)        MT\n",
      "27              Nebraska        34.0  (32.8, 35.2)        NE\n",
      "28                Nevada        28.7  (26.2, 31.3)        NV\n",
      "29         New Hampshire        29.9  (28.2, 31.6)        NH\n",
      "30            New Jersey        27.7  (26.5, 28.9)        NJ\n",
      "31            New Mexico        30.9  (29.0, 32.8)        NM\n",
      "32              New York        26.3  (25.3, 27.4)        NY\n",
      "33        North Carolina        33.6  (32.0, 35.2)        NC\n",
      "34          North Dakota        33.1  (31.1, 35.1)        ND\n",
      "35                  Ohio        35.5  (34.3, 36.7)        OH\n",
      "36              Oklahoma        36.4  (34.7, 38.2)        OK\n",
      "37                Oregon        28.1  (26.6, 29.6)        OR\n",
      "38          Pennsylvania        31.5  (29.8, 33.2)        PA\n",
      "39          Rhode Island        30.1  (28.2, 32.1)        RI\n",
      "40        South Carolina        36.2  (34.2, 38.3)        SC\n",
      "41          South Dakota        33.2  (30.7, 35.8)        SD\n",
      "42             Tennessee        35.6  (33.6, 37.6)        TN\n",
      "43                 Texas        35.8  (33.9, 37.7)        TX\n",
      "44                  Utah        28.6  (27.4, 29.7)        UT\n",
      "45               Vermont        26.3  (24.6, 27.9)        VT\n",
      "46              Virginia        32.2  (30.8, 33.6)        VA\n",
      "47            Washington        28.0  (27.0, 29.1)        WA\n",
      "48         West Virginia        39.1  (37.5, 40.7)        WV\n",
      "49             Wisconsin        32.3  (30.4, 34.2)        WI\n",
      "50               Wyoming        30.7  (28.7, 32.7)        WY\n"
     ]
    }
   ],
   "source": [
    "print (pd.merge(d1, d2, on='stateName'))"
   ]
  },
  {
   "cell_type": "markdown",
   "id": "0c64a91d",
   "metadata": {},
   "source": [
    "# Helper "
   ]
  },
  {
   "cell_type": "code",
   "execution_count": 10,
   "id": "8c4a2ef2",
   "metadata": {},
   "outputs": [
    {
     "data": {
      "text/plain": [
       "'District of Columbia'"
      ]
     },
     "execution_count": 10,
     "metadata": {},
     "output_type": "execute_result"
    }
   ],
   "source": [
    "' District of Columbia  '.strip()"
   ]
  },
  {
   "cell_type": "code",
   "execution_count": null,
   "id": "e3865c7a",
   "metadata": {},
   "outputs": [],
   "source": []
  }
 ],
 "metadata": {
  "kernelspec": {
   "display_name": "Python 3 (ipykernel)",
   "language": "python",
   "name": "python3"
  },
  "language_info": {
   "codemirror_mode": {
    "name": "ipython",
    "version": 3
   },
   "file_extension": ".py",
   "mimetype": "text/x-python",
   "name": "python",
   "nbconvert_exporter": "python",
   "pygments_lexer": "ipython3",
   "version": "3.7.11"
  }
 },
 "nbformat": 4,
 "nbformat_minor": 5
}
